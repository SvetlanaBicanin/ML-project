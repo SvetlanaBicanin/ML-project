{
 "cells": [
  {
   "cell_type": "code",
   "execution_count": 1,
   "id": "ef1df78c",
   "metadata": {},
   "outputs": [
    {
     "name": "stderr",
     "output_type": "stream",
     "text": [
      "/home/svetlana/.local/lib/python3.8/site-packages/pandas/core/computation/expressions.py:20: UserWarning: Pandas requires version '2.7.3' or newer of 'numexpr' (version '2.7.1' currently installed).\n",
      "  from pandas.core.computation.check import NUMEXPR_INSTALLED\n"
     ]
    }
   ],
   "source": [
    "import numpy as np\n",
    "import pandas as pd"
   ]
  },
  {
   "cell_type": "code",
   "execution_count": 2,
   "id": "1de18ff5",
   "metadata": {},
   "outputs": [],
   "source": [
    "import os\n",
    "import glob\n",
    "import shutil\n",
    "import random\n"
   ]
  },
  {
   "cell_type": "code",
   "execution_count": 3,
   "id": "256de768",
   "metadata": {},
   "outputs": [],
   "source": [
    "#for dirname, _, filenames in os.walk('../archive'):\n",
    " #   for filename in filenames:\n",
    "  #      print(os.path.join(dirname, filename))"
   ]
  },
  {
   "cell_type": "code",
   "execution_count": 4,
   "id": "3b644682",
   "metadata": {},
   "outputs": [],
   "source": [
    "# def create_data_path(base_path,input_path):\n",
    "#     try:\n",
    "#         os.makedirs(os.path.join(base_path,'training'))\n",
    "#         os.makedirs(os.path.join(base_path, 'training/0'))\n",
    "#         os.makedirs(os.path.join(base_path, 'training/1'))\n",
    "#         os.makedirs(os.path.join(base_path,'validation'))\n",
    "#         os.makedirs(os.path.join(base_path, 'validation/1'))\n",
    "#         os.makedirs(os.path.join(base_path, 'validation/0'))\n",
    "#     except:\n",
    "#         print(\"Le folder esistono già\")\n",
    "#     list_dir=glob.glob(os.path.join(input_path,'*'))\n",
    "#     print(list_dir)\n",
    "#     for id in list_dir:\n",
    "#         list_file_0=glob.glob(os.path.join(id,'0/*'))\n",
    "#         list_file_1= glob.glob(os.path.join(id, '1/*'))\n",
    "#         for file_0 in list_file_0:\n",
    "#             src_path = file_0\n",
    "#             dst_path = os.path.join(os.path.join(base_path, 'training/0'), os.path.basename(file_0))\n",
    "#             shutil.copy(src_path, dst_path)\n",
    "            \n",
    "#         for file_1 in list_file_1:\n",
    "#             src_path = file_1\n",
    "#             dst_path = os.path.join(os.path.join(base_path, 'training/1'), os.path.basename(file_1))\n",
    "#             shutil.copy(src_path, dst_path)"
   ]
  },
  {
   "cell_type": "code",
   "execution_count": 5,
   "id": "1f755400",
   "metadata": {},
   "outputs": [],
   "source": [
    "# create_data_path('../archive','../archive')"
   ]
  },
  {
   "cell_type": "code",
   "execution_count": 6,
   "id": "654c9e72",
   "metadata": {},
   "outputs": [],
   "source": [
    "# def split_training_validation(base_path,split_size):\n",
    "#     list_file_0=glob.glob(os.path.join(base_path,'training/0/*'))\n",
    "#     list_file_1 = glob.glob(os.path.join(base_path, 'training/1/*'))\n",
    "#     tot_file=list_file_1+list_file_0\n",
    "#     random.shuffle(tot_file)\n",
    "#     training_set=tot_file[0:int(len(tot_file)*split_size)]\n",
    "#     validation_set=tot_file[int(len(tot_file)*split_size):]\n",
    "#     for file in validation_set:\n",
    "#         if file[-5]=='0':\n",
    "#             dst_path = os.path.join(os.path.join(base_path, 'validation/0'), os.path.basename(file))\n",
    "#             shutil.copy(file, dst_path)\n",
    "#         elif file[-5]=='1':\n",
    "#             dst_path = os.path.join(os.path.join(base_path, 'validation/1'), os.path.basename(file))\n",
    "#             shutil.copy(file, dst_path)"
   ]
  },
  {
   "cell_type": "code",
   "execution_count": 7,
   "id": "ae42691d",
   "metadata": {},
   "outputs": [],
   "source": [
    "# training_split=0.8\n",
    "# split_training_validation('../archive',training_split)"
   ]
  },
  {
   "cell_type": "code",
   "execution_count": 8,
   "id": "f51506d5",
   "metadata": {},
   "outputs": [],
   "source": [
    "from tensorflow.keras.preprocessing.image import ImageDataGenerator"
   ]
  },
  {
   "cell_type": "code",
   "execution_count": 9,
   "id": "ba962ed3",
   "metadata": {},
   "outputs": [],
   "source": [
    "def create_data_generator(base_path,target_size):\n",
    "    # All images will be rescaled by 1./255\n",
    "    train_datagen = ImageDataGenerator(rescale=1 / 255)\n",
    "    validation_datagen = ImageDataGenerator(rescale=1 / 255)\n",
    "\n",
    "    # Flow training images in batches of 128 using train_datagen generator\n",
    "    train_generator = train_datagen.flow_from_directory(\n",
    "        os.path.join(base_path,'training/'),  # This is the source directory for training images\n",
    "        target_size=target_size,  # All images will be resized to 300x300\n",
    "        batch_size=64,\n",
    "        # Since you use binary_crossentropy loss, you need binary labels\n",
    "        class_mode='binary')\n",
    "\n",
    "    # Flow validation images in batches of 128 using validation_datagen generator\n",
    "    validation_generator = validation_datagen.flow_from_directory(\n",
    "        os.path.join(base_path,'validation/'),  # This is the source directory for validation images\n",
    "        target_size=target_size,  # All images will be resized to 300x300\n",
    "        batch_size=32,\n",
    "        # Since you use binary_crossentropy loss, you need binary labels\n",
    "        class_mode='binary')\n",
    "    return train_generator,validation_generator"
   ]
  },
  {
   "cell_type": "code",
   "execution_count": 10,
   "id": "987bc0c7",
   "metadata": {},
   "outputs": [
    {
     "name": "stdout",
     "output_type": "stream",
     "text": [
      "Found 264929 images belonging to 2 classes.\n",
      "Found 52986 images belonging to 2 classes.\n"
     ]
    }
   ],
   "source": [
    "train_data,validation_data=create_data_generator('../archive',(50,50))"
   ]
  },
  {
   "cell_type": "code",
   "execution_count": 11,
   "id": "709a19b3",
   "metadata": {},
   "outputs": [],
   "source": [
    "from tensorflow.keras import backend as K"
   ]
  },
  {
   "cell_type": "code",
   "execution_count": 12,
   "id": "052af56e",
   "metadata": {},
   "outputs": [
    {
     "data": {
      "text/plain": [
       "'channels_last'"
      ]
     },
     "execution_count": 12,
     "metadata": {},
     "output_type": "execute_result"
    }
   ],
   "source": [
    "K.image_data_format()\n"
   ]
  },
  {
   "cell_type": "code",
   "execution_count": 13,
   "id": "a3602cf2",
   "metadata": {},
   "outputs": [
    {
     "data": {
      "text/plain": [
       "264929"
      ]
     },
     "execution_count": 13,
     "metadata": {},
     "output_type": "execute_result"
    }
   ],
   "source": [
    "train_data.samples"
   ]
  },
  {
   "cell_type": "code",
   "execution_count": 14,
   "id": "cefaf007",
   "metadata": {},
   "outputs": [
    {
     "data": {
      "text/plain": [
       "(50, 50, 3)"
      ]
     },
     "execution_count": 14,
     "metadata": {},
     "output_type": "execute_result"
    }
   ],
   "source": [
    "train_data.image_shape"
   ]
  },
  {
   "cell_type": "code",
   "execution_count": 15,
   "id": "082c8fcf",
   "metadata": {},
   "outputs": [],
   "source": [
    "from tensorflow.keras.models import Sequential\n",
    "from tensorflow.keras.layers import Conv2D, MaxPooling2D, Dropout, Dense, Flatten\n",
    "from tensorflow.keras.optimizers import Adam"
   ]
  },
  {
   "cell_type": "code",
   "execution_count": 16,
   "id": "522fe95e",
   "metadata": {},
   "outputs": [],
   "source": [
    "def create_model(input_shape):\n",
    "    model = Sequential([\n",
    "        Conv2D(64, (3, 3), activation='relu', input_shape=input_shape),\n",
    "        MaxPooling2D(2, 2),\n",
    "        Dropout(0.25),\n",
    "        Flatten(),\n",
    "        Dense(128, activation='relu'),\n",
    "        Dense(512, activation='relu'),\n",
    "        Dropout(0.4),\n",
    "        Dense(1, activation='sigmoid')\n",
    "    ])\n",
    "    model.compile(loss='binary_crossentropy',\n",
    "                  optimizer=Adam(learning_rate=0.0001),\n",
    "                  metrics=['accuracy'])\n",
    "    return model"
   ]
  },
  {
   "cell_type": "code",
   "execution_count": 17,
   "id": "b28e54f2",
   "metadata": {},
   "outputs": [],
   "source": [
    "model = create_model((50,50,3))"
   ]
  },
  {
   "cell_type": "code",
   "execution_count": null,
   "id": "39588ea8",
   "metadata": {},
   "outputs": [],
   "source": [
    " "
   ]
  },
  {
   "cell_type": "code",
   "execution_count": 18,
   "id": "77f77954",
   "metadata": {},
   "outputs": [
    {
     "name": "stdout",
     "output_type": "stream",
     "text": [
      "Model: \"sequential\"\n",
      "_________________________________________________________________\n",
      " Layer (type)                Output Shape              Param #   \n",
      "=================================================================\n",
      " conv2d (Conv2D)             (None, 48, 48, 64)        1792      \n",
      "                                                                 \n",
      " max_pooling2d (MaxPooling2D  (None, 24, 24, 64)       0         \n",
      " )                                                               \n",
      "                                                                 \n",
      " dropout (Dropout)           (None, 24, 24, 64)        0         \n",
      "                                                                 \n",
      " flatten (Flatten)           (None, 36864)             0         \n",
      "                                                                 \n",
      " dense (Dense)               (None, 128)               4718720   \n",
      "                                                                 \n",
      " dense_1 (Dense)             (None, 512)               66048     \n",
      "                                                                 \n",
      " dropout_1 (Dropout)         (None, 512)               0         \n",
      "                                                                 \n",
      " dense_2 (Dense)             (None, 1)                 513       \n",
      "                                                                 \n",
      "=================================================================\n",
      "Total params: 4,787,073\n",
      "Trainable params: 4,787,073\n",
      "Non-trainable params: 0\n",
      "_________________________________________________________________\n"
     ]
    }
   ],
   "source": [
    "model.summary()"
   ]
  },
  {
   "cell_type": "code",
   "execution_count": 19,
   "id": "7500d98b",
   "metadata": {},
   "outputs": [
    {
     "name": "stdout",
     "output_type": "stream",
     "text": [
      "Epoch 1/5\n",
      "4140/4140 [==============================] - 3598s 868ms/step - loss: 0.3948 - accuracy: 0.8257 - val_loss: 0.3622 - val_accuracy: 0.8402\n",
      "Epoch 2/5\n",
      "4140/4140 [==============================] - 3265s 789ms/step - loss: 0.3584 - accuracy: 0.8438 - val_loss: 0.3335 - val_accuracy: 0.8563\n",
      "Epoch 3/5\n",
      "4140/4140 [==============================] - 3267s 789ms/step - loss: 0.3393 - accuracy: 0.8539 - val_loss: 0.3174 - val_accuracy: 0.8627\n",
      "Epoch 4/5\n",
      "4140/4140 [==============================] - 3251s 785ms/step - loss: 0.3264 - accuracy: 0.8599 - val_loss: 0.3070 - val_accuracy: 0.8679\n",
      "Epoch 5/5\n",
      "4140/4140 [==============================] - 3283s 793ms/step - loss: 0.3145 - accuracy: 0.8658 - val_loss: 0.2876 - val_accuracy: 0.8807\n"
     ]
    }
   ],
   "source": [
    "history = model.fit(\n",
    "      train_data,\n",
    "      epochs=5,\n",
    "      verbose=1,\n",
    "      validation_data = validation_data)"
   ]
  },
  {
   "cell_type": "code",
   "execution_count": 20,
   "id": "0ae0cd13",
   "metadata": {},
   "outputs": [],
   "source": [
    "import matplotlib.pyplot as plt"
   ]
  },
  {
   "cell_type": "code",
   "execution_count": 21,
   "id": "5e2fae2f",
   "metadata": {},
   "outputs": [],
   "source": [
    "acc = history.history['accuracy']\n",
    "val_acc = history.history['val_accuracy']\n",
    "loss = history.history['loss']\n",
    "val_loss = history.history['val_loss']\n"
   ]
  },
  {
   "cell_type": "code",
   "execution_count": 22,
   "id": "00e7e6fd",
   "metadata": {},
   "outputs": [],
   "source": [
    "epochs = range(len(acc))"
   ]
  },
  {
   "cell_type": "code",
   "execution_count": 24,
   "id": "17cb08da",
   "metadata": {},
   "outputs": [
    {
     "data": {
      "image/png": "[encoded data removed]",
      "text/plain": [
       "<Figure size 432x288 with 1 Axes>"
      ]
     },
     "metadata": {
      "needs_background": "light"
     },
     "output_type": "display_data"
    },
    {
     "data": {
      "text/plain": [
       "<Figure size 432x288 with 0 Axes>"
      ]
     },
     "metadata": {},
     "output_type": "display_data"
    }
   ],
   "source": [
    "plt.plot(epochs, acc, 'r', label='Training accuracy')\n",
    "plt.plot(epochs, val_acc, 'b', label='Validation accuracy')\n",
    "plt.title('Training and validation accuracy')\n",
    "plt.legend(loc=0)\n",
    "plt.figure()\n",
    "plt.show()"
   ]
  },
  {
   "cell_type": "code",
   "execution_count": 25,
   "id": "d1e382e4",
   "metadata": {},
   "outputs": [
    {
     "data": {
      "image/png": "[encoded data removed]",
      "text/plain": [
       "<Figure size 432x288 with 1 Axes>"
      ]
     },
     "metadata": {
      "needs_background": "light"
     },
     "output_type": "display_data"
    },
    {
     "data": {
      "text/plain": [
       "<Figure size 432x288 with 0 Axes>"
      ]
     },
     "metadata": {},
     "output_type": "display_data"
    }
   ],
   "source": [
    "plt.plot(epochs, loss, 'r', label='Training loss')\n",
    "plt.plot(epochs, val_loss, 'b', label='Validation loss')\n",
    "plt.title('Training and validation loss')\n",
    "plt.legend(loc=0)\n",
    "plt.figure()\n",
    "plt.show()"
   ]
  },
  {
   "cell_type": "code",
   "execution_count": 45,
   "id": "7265e691",
   "metadata": {},
   "outputs": [
    {
     "data": {
      "text/plain": [
       "50"
      ]
     },
     "execution_count": 45,
     "metadata": {},
     "output_type": "execute_result"
    }
   ],
   "source": [
    "#jedan patch od slike\n",
    "len((train_data[0])[0][0])"
   ]
  },
  {
   "cell_type": "code",
   "execution_count": 70,
   "id": "5ed31940",
   "metadata": {},
   "outputs": [
    {
     "data": {
      "text/plain": [
       "<matplotlib.image.AxesImage at 0x7fac2bbd2610>"
      ]
     },
     "execution_count": 70,
     "metadata": {},
     "output_type": "execute_result"
    },
    {
     "data": {
      "image/png": "[encoded data removed]",
      "text/plain": [
       "<Figure size 432x288 with 1 Axes>"
      ]
     },
     "metadata": {
      "needs_background": "light"
     },
     "output_type": "display_data"
    }
   ],
   "source": [
    "\n",
    "plt.imshow((train_data[2222])[0][63])\n"
   ]
  },
  {
   "cell_type": "code",
   "execution_count": 71,
   "id": "0f46bac5",
   "metadata": {},
   "outputs": [
    {
     "data": {
      "text/plain": [
       "<matplotlib.image.AxesImage at 0x7fac2bc7bf10>"
      ]
     },
     "execution_count": 71,
     "metadata": {},
     "output_type": "execute_result"
    },
    {
     "data": {
      "image/png": "[encoded data removed]",
      "text/plain": [
       "<Figure size 432x288 with 1 Axes>"
      ]
     },
     "metadata": {
      "needs_background": "light"
     },
     "output_type": "display_data"
    }
   ],
   "source": [
    "plt.imshow((train_data[2222])[0][62])\n"
   ]
  },
  {
   "cell_type": "code",
   "execution_count": 78,
   "id": "6d551dd2",
   "metadata": {},
   "outputs": [
    {
     "ename": "IsADirectoryError",
     "evalue": "[Errno 21] Is a directory: '../archive/training/'",
     "output_type": "error",
     "traceback": [
      "\u001b[0;31m---------------------------------------------------------------------------\u001b[0m",
      "\u001b[0;31mIsADirectoryError\u001b[0m                         Traceback (most recent call last)",
      "\u001b[0;32m<ipython-input-78-81d498af41e2>\u001b[0m in \u001b[0;36m<module>\u001b[0;34m\u001b[0m\n\u001b[0;32m----> 1\u001b[0;31m \u001b[0mx_data\u001b[0m \u001b[0;34m=\u001b[0m \u001b[0mnp\u001b[0m\u001b[0;34m.\u001b[0m\u001b[0mload\u001b[0m\u001b[0;34m(\u001b[0m\u001b[0;34m'../archive/training/'\u001b[0m\u001b[0;34m)\u001b[0m\u001b[0;34m\u001b[0m\u001b[0;34m\u001b[0m\u001b[0m\n\u001b[0m",
      "\u001b[0;32m~/.local/lib/python3.8/site-packages/numpy/lib/npyio.py\u001b[0m in \u001b[0;36mload\u001b[0;34m(file, mmap_mode, allow_pickle, fix_imports, encoding)\u001b[0m\n\u001b[1;32m    388\u001b[0m             \u001b[0mown_fid\u001b[0m \u001b[0;34m=\u001b[0m \u001b[0;32mFalse\u001b[0m\u001b[0;34m\u001b[0m\u001b[0;34m\u001b[0m\u001b[0m\n\u001b[1;32m    389\u001b[0m         \u001b[0;32melse\u001b[0m\u001b[0;34m:\u001b[0m\u001b[0;34m\u001b[0m\u001b[0;34m\u001b[0m\u001b[0m\n\u001b[0;32m--> 390\u001b[0;31m             \u001b[0mfid\u001b[0m \u001b[0;34m=\u001b[0m \u001b[0mstack\u001b[0m\u001b[0;34m.\u001b[0m\u001b[0menter_context\u001b[0m\u001b[0;34m(\u001b[0m\u001b[0mopen\u001b[0m\u001b[0;34m(\u001b[0m\u001b[0mos_fspath\u001b[0m\u001b[0;34m(\u001b[0m\u001b[0mfile\u001b[0m\u001b[0;34m)\u001b[0m\u001b[0;34m,\u001b[0m \u001b[0;34m\"rb\"\u001b[0m\u001b[0;34m)\u001b[0m\u001b[0;34m)\u001b[0m\u001b[0;34m\u001b[0m\u001b[0;34m\u001b[0m\u001b[0m\n\u001b[0m\u001b[1;32m    391\u001b[0m             \u001b[0mown_fid\u001b[0m \u001b[0;34m=\u001b[0m \u001b[0;32mTrue\u001b[0m\u001b[0;34m\u001b[0m\u001b[0;34m\u001b[0m\u001b[0m\n\u001b[1;32m    392\u001b[0m \u001b[0;34m\u001b[0m\u001b[0m\n",
      "\u001b[0;31mIsADirectoryError\u001b[0m: [Errno 21] Is a directory: '../archive/training/'"
     ]
    }
   ],
   "source": []
  },
  {
   "cell_type": "code",
   "execution_count": null,
   "id": "215ad3d4",
   "metadata": {},
   "outputs": [],
   "source": []
  }
 ],
 "metadata": {
  "kernelspec": {
   "display_name": "Python 3",
   "language": "python",
   "name": "python3"
  },
  "language_info": {
   "codemirror_mode": {
    "name": "ipython",
    "version": 3
   },
   "file_extension": ".py",
   "mimetype": "text/x-python",
   "name": "python",
   "nbconvert_exporter": "python",
   "pygments_lexer": "ipython3",
   "version": "3.8.10"
  }
 },
 "nbformat": 4,
 "nbformat_minor": 5
}
