{
  "nbformat": 4,
  "nbformat_minor": 0,
  "metadata": {
    "colab": {
      "provenance": []
    },
    "kernelspec": {
      "name": "python3",
      "display_name": "Python 3"
    },
    "language_info": {
      "name": "python"
    }
  },
  "cells": [
    {
      "cell_type": "code",
      "source": [
        "!pip show tensorflow"
      ],
      "metadata": {
        "colab": {
          "base_uri": "https://localhost:8080/"
        },
        "id": "1C2oTyk0DXXr",
        "outputId": "5c5a4819-517a-4e80-b488-2231d903e9eb"
      },
      "execution_count": 5,
      "outputs": [
        {
          "output_type": "stream",
          "name": "stdout",
          "text": [
            "Name: tensorflow\n",
            "Version: 2.13.0\n",
            "Summary: TensorFlow is an open source machine learning framework for everyone.\n",
            "Home-page: https://www.tensorflow.org/\n",
            "Author: Google Inc.\n",
            "Author-email: packages@tensorflow.org\n",
            "License: Apache 2.0\n",
            "Location: /usr/local/lib/python3.10/dist-packages\n",
            "Requires: absl-py, astunparse, flatbuffers, gast, google-pasta, grpcio, h5py, keras, libclang, numpy, opt-einsum, packaging, protobuf, setuptools, six, tensorboard, tensorflow-estimator, tensorflow-io-gcs-filesystem, termcolor, typing-extensions, wrapt\n",
            "Required-by: dopamine-rl\n"
          ]
        }
      ]
    },
    {
      "cell_type": "code",
      "execution_count": 1,
      "metadata": {
        "id": "NZxDi8r5BLDz"
      },
      "outputs": [],
      "source": [
        "import numpy as np\n",
        "import pandas as pd\n",
        "import matplotlib.pyplot as plt\n",
        "import os\n",
        "import glob\n",
        "import shutil\n",
        "import random\n",
        "\n",
        "from tensorflow.keras import backend as K\n",
        "from PIL import Image\n"
      ]
    },
    {
      "cell_type": "code",
      "source": [
        "# inicijalni podaci su organizovani po folderima koji predstavljaju podatke(fotografije) koje pripadaju osobama(pacijentima)\n",
        "# unutar foldera za jednog pacijenta su dva foldera sa slikama iz klase 1 i 0\n",
        "# podatke cemo organizovati tako sto cemo uzeti sve fotografije iz klase 0 za svakog pacijenta i skladistiti ih u jedan folder\n",
        "# i analogno za fotografije iz klase 1\n",
        "def create_data_path(base_path,input_path):\n",
        "  try:\n",
        "    os.makedirs(os.path.join(base_path,'data'))\n",
        "    os.makedirs(os.path.join(base_path, 'data/0'))\n",
        "    os.makedirs(os.path.join(base_path, 'data/1'))\n",
        "  except:\n",
        "    print(\"Greska pri kreiranju direktorijuma\")\n",
        "\n",
        "  list_dir=glob.glob(os.path.join(input_path,'*'))\n",
        "  for id in list_dir:\n",
        "    list_file_0=glob.glob(os.path.join(id,'0/*'))\n",
        "    list_file_1= glob.glob(os.path.join(id, '1/*'))\n",
        "    for file_0 in list_file_0:\n",
        "      src_path = file_0\n",
        "      dst_path = os.path.join(os.path.join(base_path, 'data/0'), os.path.basename(file_0))\n",
        "      shutil.copy(src_path, dst_path)\n",
        "\n",
        "    for file_1 in list_file_1:\n",
        "      src_path = file_1\n",
        "      dst_path = os.path.join(os.path.join(base_path, 'data/1'), os.path.basename(file_1))\n",
        "      shutil.copy(src_path, dst_path)"
      ],
      "metadata": {
        "id": "grv1YyxjBi44"
      },
      "execution_count": 4,
      "outputs": []
    },
    {
      "cell_type": "code",
      "source": [
        "create_data_path('collection/','archive/data')"
      ],
      "metadata": {
        "id": "eLvlvaO2BorL"
      },
      "execution_count": null,
      "outputs": []
    },
    {
      "cell_type": "code",
      "source": [
        "list_dir_0=glob.glob(os.path.join('collection/data/0/','*'))"
      ],
      "metadata": {
        "id": "PB3XsjASCSpM"
      },
      "execution_count": null,
      "outputs": []
    },
    {
      "cell_type": "code",
      "source": [
        "# broj podataka klase 0\n",
        "print(len(list_dir_0))"
      ],
      "metadata": {
        "id": "ECBV8iUUCVzd"
      },
      "execution_count": null,
      "outputs": []
    },
    {
      "cell_type": "code",
      "source": [
        "# format zapisa kanala fotografija\n",
        "K.image_data_format()"
      ],
      "metadata": {
        "id": "iqK5h3m9CbAa"
      },
      "execution_count": null,
      "outputs": []
    },
    {
      "cell_type": "code",
      "source": [
        "img = Image.open(list_dir_1[0])\n",
        "print(\"Shape of images: (\",img.height,',', img.width,\")\")\n",
        "channel = 3"
      ],
      "metadata": {
        "id": "UlccJRo-CflT"
      },
      "execution_count": null,
      "outputs": []
    },
    {
      "cell_type": "code",
      "source": [
        "data0 = np.ndarray((len(list_dir_0), img.height, img.width, channel), dtype=np.float32)\n",
        "\n",
        "i=0\n",
        "for fname in list_dir_0:\n",
        "    curr_img = Image.open(fname)\n",
        "    if curr_img.size == img.size:\n",
        "        data0[i] = curr_img\n",
        "        i+=1\n",
        "\n",
        "\n"
      ],
      "metadata": {
        "id": "k9QN_HXpCf6Y"
      },
      "execution_count": null,
      "outputs": []
    },
    {
      "cell_type": "code",
      "source": [
        "list_dir_1=glob.glob(os.path.join('collection/data/1/','*'))\n"
      ],
      "metadata": {
        "id": "Gp_mYNCYCgHZ"
      },
      "execution_count": null,
      "outputs": []
    },
    {
      "cell_type": "code",
      "source": [
        "img = Image.open(list_dir_1[0])\n",
        "print(\"Shape of images: (\",img.height,',', img.width,\")\")\n",
        "channel = 3\n"
      ],
      "metadata": {
        "id": "Yel59wtWCgOe"
      },
      "execution_count": null,
      "outputs": []
    },
    {
      "cell_type": "code",
      "source": [
        "data1 = np.ndarray((len(list_dir_1), img.height, img.width, channel), dtype=np.float32)\n",
        "\n",
        "i=0\n",
        "for fname in list_dir_1:\n",
        "    curr_img = Image.open(fname)\n",
        "    if curr_img.size == img.size:\n",
        "        data1[i] = curr_img\n",
        "        i+=1\n"
      ],
      "metadata": {
        "id": "D52naA97CgRZ"
      },
      "execution_count": null,
      "outputs": []
    },
    {
      "cell_type": "code",
      "source": [
        "# print(\"Broj podataka sa pozitivnim IDC-om \", len(data1))\n",
        "# print(\"Broj podataka sa negativnim IDC-om \", len(data0))"
      ],
      "metadata": {
        "id": "EaD18lQNCgU6"
      },
      "execution_count": null,
      "outputs": []
    },
    {
      "cell_type": "code",
      "source": [
        "# obradjene fotografije zelimo da sacuvamo u .npy fajlu u vidu nizova ne bi li ih lakse pokupili\n",
        "np.save('collection/data0.npy', data0)\n"
      ],
      "metadata": {
        "id": "a5YXJbdpCvKp"
      },
      "execution_count": null,
      "outputs": []
    },
    {
      "cell_type": "code",
      "source": [
        "# obradjene fotografije zelimo da sacuvamo u .npy fajlu u vidu nizova ne bi li ih lakse pokupili\n",
        "np.save('collection/data1.npy', data1)"
      ],
      "metadata": {
        "id": "hrUSjjLbCvTs"
      },
      "execution_count": null,
      "outputs": []
    }
  ]
}