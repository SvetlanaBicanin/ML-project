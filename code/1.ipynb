{
 "cells": [
  {
   "cell_type": "code",
   "execution_count": 1,
   "id": "751276f8",
   "metadata": {},
   "outputs": [
    {
     "name": "stderr",
     "output_type": "stream",
     "text": [
      "/home/svetlana/.local/lib/python3.8/site-packages/pandas/core/computation/expressions.py:20: UserWarning: Pandas requires version '2.7.3' or newer of 'numexpr' (version '2.7.1' currently installed).\n",
      "  from pandas.core.computation.check import NUMEXPR_INSTALLED\n"
     ]
    }
   ],
   "source": [
    "import numpy as np\n",
    "import pandas as pd\n",
    "import matplotlib.pyplot as plt\n",
    "import os\n",
    "import glob\n",
    "import shutil\n",
    "import random\n",
    "from tensorflow.keras.preprocessing.image import ImageDataGenerator\n",
    "from tensorflow.keras import backend as K\n",
    "from tensorflow.keras.models import Sequential\n",
    "from tensorflow.keras.layers import Conv2D, MaxPooling2D, Dropout, Dense, Flatten\n",
    "from tensorflow.keras.optimizers import Adam"
   ]
  },
  {
   "cell_type": "code",
   "execution_count": 2,
   "id": "b2d36df3",
   "metadata": {},
   "outputs": [],
   "source": [
    "from PIL import Image\n"
   ]
  },
  {
   "cell_type": "code",
   "execution_count": null,
   "id": "26c96b1c",
   "metadata": {},
   "outputs": [],
   "source": []
  },
  {
   "cell_type": "code",
   "execution_count": 17,
   "id": "0a878a4e",
   "metadata": {},
   "outputs": [],
   "source": [
    "# def create_data_path(base_path,input_path):\n",
    "#     try:\n",
    "#         os.makedirs(os.path.join(base_path,'data'))\n",
    "#         os.makedirs(os.path.join(base_path, 'data/0'))\n",
    "#         os.makedirs(os.path.join(base_path, 'data/1'))\n",
    "#     except:\n",
    "#         print(\"Greska pri kreiranju direktorijuma\")\n",
    "        \n",
    "#     list_dir=glob.glob(os.path.join(input_path,'*'))\n",
    "#    # data = np.array([])\n",
    "#    # y = np.array([])\n",
    "#     for id in list_dir:\n",
    "#         list_file_0=glob.glob(os.path.join(id,'0/*'))\n",
    "#         list_file_1= glob.glob(os.path.join(id, '1/*'))\n",
    "#         for file_0 in list_file_0:\n",
    "#             src_path = file_0\n",
    "#             dst_path = os.path.join(os.path.join(base_path, 'data/0'), os.path.basename(file_0))\n",
    "#             shutil.copy(src_path, dst_path)\n",
    "#             #np.append(data, np.array(Image.open(file_0)))\n",
    "#             #np.append(y, 0)\n",
    "            \n",
    "#         for file_1 in list_file_1:\n",
    "#             src_path = file_1\n",
    "#             dst_path = os.path.join(os.path.join(base_path, 'data/1'), os.path.basename(file_1))\n",
    "#             shutil.copy(src_path, dst_path)\n",
    "#             #np.append(data, np.array(Image.open(file_1)))\n",
    "#             #np.append(y, 1)\n"
   ]
  },
  {
   "cell_type": "code",
   "execution_count": 18,
   "id": "7e279433",
   "metadata": {},
   "outputs": [],
   "source": [
    "#create_data_path('../kolekcija/','../archive')"
   ]
  },
  {
   "cell_type": "code",
   "execution_count": 20,
   "id": "c9f8aa27",
   "metadata": {},
   "outputs": [],
   "source": [
    "list_dir_0=glob.glob(os.path.join('../kolekcija/data/0/','*'))\n"
   ]
  },
  {
   "cell_type": "code",
   "execution_count": 21,
   "id": "dee11325",
   "metadata": {},
   "outputs": [
    {
     "name": "stdout",
     "output_type": "stream",
     "text": [
      "Shape of images: ( 50 , 50 )\n"
     ]
    }
   ],
   "source": [
    "#spahe of images\n",
    "img = Image.open(list_dir_0[0])\n",
    "print(\"Shape of images: (\",img.height,',', img.width,\")\")\n",
    "channel = 3\n"
   ]
  },
  {
   "cell_type": "code",
   "execution_count": 23,
   "id": "ec8eca32",
   "metadata": {},
   "outputs": [],
   "source": [
    "data0 = np.ndarray((2000, img.height, img.width, channel), dtype=np.float32)\n",
    "\n",
    "#data0 = np.ndarray(shape=(len(list_dir_0), img.height, img.width, channel), dtype=np.float32)\n",
    "i=0\n",
    "for fname in list_dir_0[:2000]:\n",
    "    curr_img = Image.open(fname)\n",
    "    # if curr_img size is (50, 50)\n",
    "    if curr_img.size == img.size:\n",
    "        data0[i] = curr_img\n",
    "        i+=1\n",
    "        \n",
    "    \n"
   ]
  },
  {
   "cell_type": "code",
   "execution_count": 25,
   "id": "731e6b88",
   "metadata": {},
   "outputs": [],
   "source": [
    "array_dir_0 = np.array(list_dir_0[:2000])"
   ]
  },
  {
   "cell_type": "code",
   "execution_count": 26,
   "id": "60b7261e",
   "metadata": {},
   "outputs": [],
   "source": [
    "y0 = dict(zip(array_dir_0, np.array([0 for i in array_dir_0[:2000]])))\n"
   ]
  },
  {
   "cell_type": "code",
   "execution_count": 27,
   "id": "400bf5ea",
   "metadata": {},
   "outputs": [],
   "source": [
    "list_dir_1 = glob.glob(os.path.join('../kolekcija/data/1', '*'))"
   ]
  },
  {
   "cell_type": "code",
   "execution_count": 28,
   "id": "3fb3a2cf",
   "metadata": {},
   "outputs": [
    {
     "name": "stdout",
     "output_type": "stream",
     "text": [
      "Shape of images: ( 50 , 50 )\n"
     ]
    }
   ],
   "source": [
    "img = Image.open(list_dir_1[0])\n",
    "print(\"Shape of images: (\",img.height,',', img.width,\")\")\n",
    "channel = 3\n"
   ]
  },
  {
   "cell_type": "code",
   "execution_count": 30,
   "id": "f6d0ab9c",
   "metadata": {},
   "outputs": [],
   "source": [
    "data1 = np.ndarray((2000, img.height, img.width, channel), dtype=np.float32)\n",
    "\n",
    "#data1 = np.ndarray(shape=(len(list_dir_1), img.height, img.width, channel), dtype=np.float32)\n",
    "i=0\n",
    "for fname in list_dir_1[:2000]:\n",
    "    curr_img = Image.open(fname)\n",
    "    # if curr_img size is (50, 50)\n",
    "    if curr_img.size == img.size:\n",
    "        data1[i] = curr_img\n",
    "        i+=1\n",
    "        "
   ]
  },
  {
   "cell_type": "code",
   "execution_count": 31,
   "id": "1cd51d06",
   "metadata": {},
   "outputs": [],
   "source": [
    "array_dir_1 = np.array(list_dir_1[:2000])"
   ]
  },
  {
   "cell_type": "code",
   "execution_count": 32,
   "id": "eb36d17d",
   "metadata": {},
   "outputs": [],
   "source": [
    "y1 = dict(zip(array_dir_1, np.array([1 for i in array_dir_1[:2000]])))\n"
   ]
  },
  {
   "cell_type": "code",
   "execution_count": 33,
   "id": "9e9e61b0",
   "metadata": {},
   "outputs": [
    {
     "name": "stdout",
     "output_type": "stream",
     "text": [
      "Ukupan broj podataka  4000\n"
     ]
    }
   ],
   "source": [
    "print(\"Ukupan broj podataka \", len(y0)+len(y1))"
   ]
  },
  {
   "cell_type": "code",
   "execution_count": 34,
   "id": "4b0db883",
   "metadata": {},
   "outputs": [
    {
     "name": "stdout",
     "output_type": "stream",
     "text": [
      "Broj podataka sa pozitivnim IDC-om  2000\n",
      "Broj podataka sa negativnim IDC-om  2000\n"
     ]
    }
   ],
   "source": [
    "print(\"Broj podataka sa pozitivnim IDC-om \", len(y1))\n",
    "print(\"Broj podataka sa negativnim IDC-om \", len(y0))"
   ]
  },
  {
   "cell_type": "code",
   "execution_count": 35,
   "id": "d5b5ddb6",
   "metadata": {},
   "outputs": [],
   "source": [
    "# data_0_1 = np.concatenate((data0, data1))\n",
    "# len(data_0_1)"
   ]
  },
  {
   "cell_type": "code",
   "execution_count": 36,
   "id": "ebcdffce",
   "metadata": {},
   "outputs": [],
   "source": [
    "#Y = np.concatenate((y0, y1))"
   ]
  },
  {
   "cell_type": "code",
   "execution_count": 37,
   "id": "fde5b979",
   "metadata": {},
   "outputs": [],
   "source": [
    "np.save('../kolekcija/data0.npy', data0)\n",
    "#np.save('../kolekcija/Y.npy', Y)\n"
   ]
  },
  {
   "cell_type": "code",
   "execution_count": 38,
   "id": "f0784bf8",
   "metadata": {},
   "outputs": [],
   "source": [
    "np.save('../kolekcija/data1.npy', data1)"
   ]
  },
  {
   "cell_type": "code",
   "execution_count": 2,
   "id": "ec499b5c",
   "metadata": {},
   "outputs": [],
   "source": [
    "#ucitavanje podataka iz npy fajla\n",
    "\n",
    "np.load.__defaults__=(None, True, True, 'ASCII')\n",
    "X0 = np.load('../kolekcija/data0.npy')\n",
    "np.load.__defaults__=(None, False, True, 'ASCII')\n",
    "\n"
   ]
  },
  {
   "cell_type": "code",
   "execution_count": 3,
   "id": "c39f2a03",
   "metadata": {},
   "outputs": [],
   "source": [
    "np.load.__defaults__=(None, True, True, 'ASCII')\n",
    "X1 = np.load('../kolekcija/data1.npy')\n",
    "np.load.__defaults__=(None, False, True, 'ASCII')\n"
   ]
  },
  {
   "cell_type": "code",
   "execution_count": 4,
   "id": "ff8904df",
   "metadata": {},
   "outputs": [
    {
     "name": "stdout",
     "output_type": "stream",
     "text": [
      "(2000, 50, 50, 3)\n"
     ]
    }
   ],
   "source": [
    "print(X1.shape)"
   ]
  },
  {
   "cell_type": "code",
   "execution_count": 32,
   "id": "d9ed859e",
   "metadata": {},
   "outputs": [
    {
     "name": "stdout",
     "output_type": "stream",
     "text": [
      "(4000, 50, 50, 3)\n"
     ]
    },
    {
     "data": {
      "text/plain": [
       "<matplotlib.image.AxesImage at 0x7f10ecae5730>"
      ]
     },
     "execution_count": 32,
     "metadata": {},
     "output_type": "execute_result"
    },
    {
     "data": {
      "image/png": "[encoded data removed]",
      "text/plain": [
       "<Figure size 432x288 with 1 Axes>"
      ]
     },
     "metadata": {
      "needs_background": "light"
     },
     "output_type": "display_data"
    }
   ],
   "source": [
    "X = np.concatenate((X0, X1))\n",
    "print(X.shape)\n",
    "plt.imshow(X[0]/255)"
   ]
  },
  {
   "cell_type": "code",
   "execution_count": 33,
   "id": "b5712889",
   "metadata": {},
   "outputs": [],
   "source": [
    "y0 = np.zeros(shape=(2000,1))\n",
    "y1 = np.ones(shape=(2000,1))\n",
    "Y = np.concatenate((y0, y1))"
   ]
  },
  {
   "cell_type": "code",
   "execution_count": 34,
   "id": "c7e22058",
   "metadata": {},
   "outputs": [
    {
     "name": "stdout",
     "output_type": "stream",
     "text": [
      "x_images.shape = (4000, 50, 50, 3)\n",
      "y_images.shape = (4000, 1)\n"
     ]
    }
   ],
   "source": [
    "#iscrtavanje i analiza nekih podataka\n",
    "# shuffle data\n",
    "perm_array = np.arange(len(X))\n",
    "np.random.shuffle(perm_array)\n",
    "x_images = X[perm_array]\n",
    "y_images = Y[perm_array]\n",
    "\n",
    "print('x_images.shape =', x_images.shape)\n",
    "print('y_images.shape =', y_images.shape)\n"
   ]
  },
  {
   "cell_type": "code",
   "execution_count": 35,
   "id": "0553fa9a",
   "metadata": {},
   "outputs": [],
   "source": [
    "# multi_array=np.ones((7000,50,50,3))\n",
    "\n",
    "# multi_array.shape\n",
    "\n",
    "# import tensorflow as tf\n",
    "\n",
    "# for i in range(50):\n",
    "#     print(x_images[i].shape)\n",
    "#     #For clarificatlin let's multiply each distict \"image\" with the number i to easily undestand the structure of the result...\n",
    "#     multi_array[i,:]=x_images[i]\n",
    "#     #...but naturally the \"one_liketensor\" is something special data ... thus there is need to take this information directly from this source\n",
    "\n",
    "# #And next let's print the result\n",
    "# #print(multi_array)\n",
    "\n",
    "# #And let's transform that to tensor-format\n",
    "# multi_array_as_tensor=tf.constant(multi_array)\n",
    "\n",
    "# #And ... tadaa ... you have the material in the preferred format:\n",
    "# print(\"Shape of the result is: \",multi_array_as_tensor.shape)\n"
   ]
  },
  {
   "cell_type": "code",
   "execution_count": 36,
   "id": "507dc49e",
   "metadata": {},
   "outputs": [
    {
     "data": {
      "text/plain": [
       "<matplotlib.image.AxesImage at 0x7f10ec72d4f0>"
      ]
     },
     "execution_count": 36,
     "metadata": {},
     "output_type": "execute_result"
    },
    {
     "data": {
      "image/png": "[encoded data removed]",
      "text/plain": [
       "<Figure size 432x288 with 1 Axes>"
      ]
     },
     "metadata": {
      "needs_background": "light"
     },
     "output_type": "display_data"
    }
   ],
   "source": [
    "x_images/=255\n",
    "plt.imshow(x_images[0])"
   ]
  },
  {
   "cell_type": "code",
   "execution_count": null,
   "id": "3a5daaed",
   "metadata": {},
   "outputs": [],
   "source": []
  }
 ],
 "metadata": {
  "kernelspec": {
   "display_name": "Python 3",
   "language": "python",
   "name": "python3"
  },
  "language_info": {
   "codemirror_mode": {
    "name": "ipython",
    "version": 3
   },
   "file_extension": ".py",
   "mimetype": "text/x-python",
   "name": "python",
   "nbconvert_exporter": "python",
   "pygments_lexer": "ipython3",
   "version": "3.8.10"
  }
 },
 "nbformat": 4,
 "nbformat_minor": 5
}
